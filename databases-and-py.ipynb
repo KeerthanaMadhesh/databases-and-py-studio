{
    "metadata": {
        "kernelspec": {
            "name": "python3",
            "display_name": "Python 3 (ipykernel)",
            "language": "python"
        },
        "language_info": {
            "name": "python",
            "version": "3.10.9",
            "mimetype": "text/x-python",
            "codemirror_mode": {
                "name": "ipython",
                "version": 3
            },
            "pygments_lexer": "ipython3",
            "nbconvert_exporter": "python",
            "file_extension": ".py"
        }
    },
    "nbformat_minor": 2,
    "nbformat": 4,
    "cells": [
        {
            "cell_type": "markdown",
            "source": [
                "# Studio: Working with Databases in Python\n",
                "\n",
                "For today's studio, we will be using the [TV Shows dataset](https://www.kaggle.com/ruchi798/tv-shows-on-netflix-prime-video-hulu-and-disney) from Kaggle. We have already downloaded the CSV for you.\n",
                "\n",
                "You will also be using the watchlist you just created to figure out which streaming services contain the shows that you want to watch next so you can decide which one is worth the money to you.\n",
                "\n",
                "As you complete the different tasks in the studio, you may choose between using Pandas or SQL. Remember that during the prep work, we learned that one is oftentimes more efficient at certain tasks than the other, so choose wisely!"
            ],
            "metadata": {
                "azdata_cell_guid": "54326aff-51cd-4766-8046-828a92489c6d"
            },
            "attachments": {}
        },
        {
            "cell_type": "markdown",
            "source": [
                "## My Watchlist\n",
                "\n",
                "If you would like, please use this space to make note of your watchlist by editing the text cell."
            ],
            "metadata": {
                "azdata_cell_guid": "00bc62ef-6c46-40a2-bdad-a3250a003ce7"
            },
            "attachments": {}
        },
        {
            "cell_type": "markdown",
            "source": [
                "## Database Setup\n",
                "\n",
                "To start with, import the necessary libraries and create a dataframe from the provided CSV. Print the info out for the dataframe. After that, you may drop the column called `Unnamed: 0` and rename any columns with spaces in the names or unusual characters such as `\"+\"`. Print out the info for the dataframe again to ensure that your changes were effective."
            ],
            "metadata": {
                "azdata_cell_guid": "040bdac5-f7fc-474f-b112-1d807249ad0a"
            }
        },
        {
            "cell_type": "code",
            "source": [
                "import pandas as pd\r\n",
                "\r\n",
                "df = pd.read_csv('tv_shows.csv')\r\n",
                "\r\n",
                "df.info()\r\n",
                "\r\n",
                "df.drop(columns=['Unnamed: 0'], inplace=True)\r\n",
                "\r\n",
                "df.columns = df.columns.str.replace(' ','-')\r\n",
                "df.columns = df.columns.str.replace('+', 'plus')\r\n",
                "\r\n",
                "df.info()"
            ],
            "metadata": {
                "azdata_cell_guid": "965f15d3-27b1-43ed-97e4-8c6fd482476c",
                "tags": [],
                "language": "python"
            },
            "outputs": [
                {
                    "name": "stdout",
                    "text": "<class 'pandas.core.frame.DataFrame'>\nRangeIndex: 5368 entries, 0 to 5367\nData columns (total 12 columns):\n #   Column           Non-Null Count  Dtype \n---  ------           --------------  ----- \n 0   Unnamed: 0       5368 non-null   int64 \n 1   ID               5368 non-null   int64 \n 2   Title            5368 non-null   object\n 3   Year             5368 non-null   int64 \n 4   Age              3241 non-null   object\n 5   IMDb             4406 non-null   object\n 6   Rotten Tomatoes  5368 non-null   object\n 7   Netflix          5368 non-null   int64 \n 8   Hulu             5368 non-null   int64 \n 9   Prime Video      5368 non-null   int64 \n 10  Disney+          5368 non-null   int64 \n 11  Type             5368 non-null   int64 \ndtypes: int64(8), object(4)\nmemory usage: 503.4+ KB\n<class 'pandas.core.frame.DataFrame'>\nRangeIndex: 5368 entries, 0 to 5367\nData columns (total 11 columns):\n #   Column           Non-Null Count  Dtype \n---  ------           --------------  ----- \n 0   ID               5368 non-null   int64 \n 1   Title            5368 non-null   object\n 2   Year             5368 non-null   int64 \n 3   Age              3241 non-null   object\n 4   IMDb             4406 non-null   object\n 5   Rotten-Tomatoes  5368 non-null   object\n 6   Netflix          5368 non-null   int64 \n 7   Hulu             5368 non-null   int64 \n 8   Prime-Video      5368 non-null   int64 \n 9   Disneyplus       5368 non-null   int64 \n 10  Type             5368 non-null   int64 \ndtypes: int64(7), object(4)\nmemory usage: 461.4+ KB\n",
                    "output_type": "stream"
                },
                {
                    "name": "stderr",
                    "text": "C:\\Users\\keert\\AppData\\Local\\Temp\\ipykernel_17992\\3428254552.py:10: FutureWarning: The default value of regex will change from True to False in a future version. In addition, single character regular expressions will *not* be treated as literal strings when regex=True.\n  df.columns = df.columns.str.replace('+', 'plus')\n",
                    "output_type": "stream"
                }
            ],
            "execution_count": 1
        },
        {
            "cell_type": "markdown",
            "source": [
                "With your dataframe at the ready, create a new database called `tv`. Add a new table to your database called `shows` using the data in the dataframe. "
            ],
            "metadata": {
                "azdata_cell_guid": "93875e01-f1ec-45ab-b8b3-c0fe09c89c41"
            },
            "attachments": {}
        },
        {
            "cell_type": "code",
            "source": [
                "import sqlite3\r\n",
                "\r\n",
                "conn = sqlite3.connect('tv.db')\r\n",
                "\r\n",
                "cursor = conn.cursor()\r\n",
                "\r\n",
                "create_table_query = '''\r\n",
                "create table shows (\r\n",
                "    ID integer primary key,\r\n",
                "    Title text,\r\n",
                "    Genre text,\r\n",
                "    Release_year int\r\n",
                "    Rating float\r\n",
                ");\r\n",
                "'''\r\n",
                "\r\n",
                "cursor.execute(create_table_query)\r\n",
                "\r\n",
                "conn.commit()\r\n",
                "\r\n",
                "df.to_sql('shows', conn, if_exists='replace', index=False)\r\n",
                "\r\n",
                "conn.close()\r\n",
                "\r\n",
                ""
            ],
            "metadata": {
                "azdata_cell_guid": "cae4affc-d930-4649-9c39-551475a83b5b",
                "tags": [],
                "language": "python"
            },
            "outputs": [],
            "execution_count": 3
        },
        {
            "cell_type": "markdown",
            "source": [
                "With your new table and database set up, print out the top 20 records in the `shows` table."
            ],
            "metadata": {
                "azdata_cell_guid": "4916f211-149f-467b-b5e4-22ad946b54f2"
            },
            "attachments": {}
        },
        {
            "cell_type": "code",
            "source": [
                "import sqlite3\r\n",
                "\r\n",
                "conn = sqlite3.connect('tv.db')\r\n",
                "\r\n",
                "cursor = conn.cursor()\r\n",
                "\r\n",
                "query = \"Select * from shows limit 20;\"\r\n",
                "\r\n",
                "cursor.execute(query)\r\n",
                "\r\n",
                "results = cursor.fetchall()\r\n",
                "for row in results:\r\n",
                "    print(row)\r\n",
                "\r\n",
                "conn.close()"
            ],
            "metadata": {
                "azdata_cell_guid": "c6aa3980-3eef-4d7d-8f04-961508662147",
                "tags": [],
                "language": "python"
            },
            "outputs": [
                {
                    "name": "stdout",
                    "text": "(1, 'Breaking Bad', 2008, '18+', '9.4/10', '100/100', 1, 0, 0, 0, 1)\n(2, 'Stranger Things', 2016, '16+', '8.7/10', '96/100', 1, 0, 0, 0, 1)\n(3, 'Attack on Titan', 2013, '18+', '9.0/10', '95/100', 1, 1, 0, 0, 1)\n(4, 'Better Call Saul', 2015, '18+', '8.8/10', '94/100', 1, 0, 0, 0, 1)\n(5, 'Dark', 2017, '16+', '8.8/10', '93/100', 1, 0, 0, 0, 1)\n(6, 'Avatar: The Last Airbender', 2005, '7+', '9.3/10', '93/100', 1, 0, 1, 0, 1)\n(7, 'Peaky Blinders', 2013, '18+', '8.8/10', '93/100', 1, 0, 0, 0, 1)\n(8, 'The Walking Dead', 2010, '18+', '8.2/10', '93/100', 1, 0, 0, 0, 1)\n(9, 'Black Mirror', 2011, '18+', '8.8/10', '92/100', 1, 0, 0, 0, 1)\n(10, \"The Queen's Gambit\", 2020, '18+', '8.6/10', '92/100', 1, 0, 0, 0, 1)\n(11, 'Mindhunter', 2017, '18+', '8.6/10', '90/100', 1, 0, 0, 0, 1)\n(12, 'Community', 2009, '7+', '8.5/10', '90/100', 1, 1, 1, 0, 1)\n(13, 'Narcos', 2015, '18+', '8.8/10', '90/100', 1, 0, 0, 0, 1)\n(14, 'Shameless', 2011, '18+', '8.5/10', '90/100', 1, 1, 1, 0, 1)\n(15, 'Money Heist', 2017, '18+', '8.3/10', '90/100', 1, 0, 0, 0, 1)\n(16, \"Marvel's Daredevil\", 2015, '18+', '8.6/10', '90/100', 1, 0, 0, 0, 1)\n(17, 'Lucifer', 2016, '16+', '8.1/10', '90/100', 1, 0, 0, 0, 1)\n(18, 'Supernatural', 2005, '16+', '8.4/10', '89/100', 1, 0, 0, 0, 1)\n(19, 'The Witcher', 2019, '18+', '8.2/10', '89/100', 1, 0, 0, 0, 1)\n(20, 'Ozark', 2017, '18+', '8.4/10', '89/100', 1, 0, 0, 0, 1)\n",
                    "output_type": "stream"
                }
            ],
            "execution_count": 4
        },
        {
            "cell_type": "markdown",
            "source": [
                "Now add a table that includes an id number and the titles on your watchlist."
            ],
            "metadata": {
                "azdata_cell_guid": "f158ccd2-c87a-4d2c-a947-0eadd0484a3e"
            },
            "attachments": {}
        },
        {
            "cell_type": "code",
            "source": [
                "import sqlite3\r\n",
                "\r\n",
                "conn = sqlite3.connect('tv.db')\r\n",
                "\r\n",
                "cursor = conn.cursor()\r\n",
                "\r\n",
                "create_watchlist_table_query = '''\r\n",
                "create table watchlist (\r\n",
                "    Id integer primary key,\r\n",
                "    Title text\r\n",
                ");\r\n",
                "'''\r\n",
                "\r\n",
                "cursor.execute(create_watchlist_table_query)\r\n",
                "\r\n",
                "watchlist_titles = [\r\n",
                "    \"Ragnarok\",\r\n",
                "    \"Navarasa\",\r\n",
                "    \"Rotten\"\r\n",
                "]\r\n",
                "\r\n",
                "for title in watchlist_titles:\r\n",
                "    insert_query = \"Insert into watchlist (title) values (?);\"\r\n",
                "    cursor.execute(insert_query, (title,))\r\n",
                "\r\n",
                "conn.commit()\r\n",
                "\r\n",
                "conn.close()"
            ],
            "metadata": {
                "azdata_cell_guid": "f95defad-521b-4112-8435-08daaac80b80",
                "language": "python"
            },
            "outputs": [],
            "execution_count": 5
        },
        {
            "cell_type": "markdown",
            "source": [
                "## Working with the Data\n",
                "\n",
                "Using either Pandas or SQL, determine how many shows are on each streaming service and what the mean is for each streaming service. \n",
                "\n",
                "**Note**: You may notice that the mean represents the percentage of shows in the dataframe that are on each streaming service. Take a moment to think about why that is."
            ],
            "metadata": {
                "azdata_cell_guid": "4716090d-63e3-4283-8245-934c4a28c750"
            },
            "attachments": {}
        },
        {
            "cell_type": "code",
            "source": [
                "service_counts = df['Title'].value_counts()\r\n",
                "\r\n",
                "total_shows = len(df)\r\n",
                "service_means = (service_counts / total_shows) * 100\r\n",
                "\r\n",
                "print(\"No.of shows on each streaming service:\")\r\n",
                "print(service_counts)\r\n",
                "print(\"\\n Mean percentage of shows:\")\r\n",
                "print(service_means)"
            ],
            "metadata": {
                "azdata_cell_guid": "8e4f3757-474f-4e20-b861-db973437b541",
                "language": "python"
            },
            "outputs": [
                {
                    "name": "stdout",
                    "text": "No.of shows on each streaming service:\nBreaking Bad                             1\nFresh Meat                               1\nDoctor Thorne                            1\nHustle                                   1\nNOVA                                     1\n                                        ..\nMasha's Spooky Stories                   1\nTrotro                                   1\nStyling Hollywood                        1\nVai Anitta                               1\nFearless Adventures with Jack Randall    1\nName: Title, Length: 5368, dtype: int64\n\n Mean percentage of shows:\nBreaking Bad                             0.018629\nFresh Meat                               0.018629\nDoctor Thorne                            0.018629\nHustle                                   0.018629\nNOVA                                     0.018629\n                                           ...   \nMasha's Spooky Stories                   0.018629\nTrotro                                   0.018629\nStyling Hollywood                        0.018629\nVai Anitta                               0.018629\nFearless Adventures with Jack Randall    0.018629\nName: Title, Length: 5368, dtype: float64\n",
                    "output_type": "stream"
                }
            ],
            "execution_count": 12
        },
        {
            "cell_type": "markdown",
            "source": [
                "Join your watchlist data with the shows data to determine which streaming services your watchlist shows are on and make a new table in your database using the joined data. Print out the data in your joined table to see what shows on your watchlist on in the original dataset. With the joined data, determine the percentage of your watchlist shows that are on each streaming service and how many of your watchlist shows are on each streaming service."
            ],
            "metadata": {
                "azdata_cell_guid": "167cbd0d-ad9f-4f27-8066-e45dfdfaf421"
            },
            "attachments": {}
        },
        {
            "cell_type": "code",
            "source": [
                "import sqlite3\r\n",
                "\r\n",
                "conn = sqlite3.connect('tv.db')\r\n",
                "\r\n",
                "cursor = conn.cursor()\r\n",
                "\r\n",
                "create_joined_table_query = '''\r\n",
                "create table watchlist_joined as\r\n",
                "select watchlist.title as watclist_title, shows.*\r\n",
                "from watchlist\r\n",
                "left join shows on watchlist.title = shows.title;\r\n",
                "'''\r\n",
                "\r\n",
                "cursor.execute(create_joined_table_query)\r\n",
                "\r\n",
                "conn.commit()\r\n",
                "\r\n",
                "query_watchlist_data = \"select * from watchlist_joined;\"\r\n",
                "cursor.execute(query_watchlist_data)\r\n",
                "\r\n",
                "watchlist_data = cursor.fetchall()\r\n",
                "for row in watchlist_data:\r\n",
                "    print(row)\r\n",
                "\r\n",
                "conn.close()"
            ],
            "metadata": {
                "azdata_cell_guid": "b871523e-a476-4f3a-a6ac-2e251f140e84",
                "language": "python"
            },
            "outputs": [
                {
                    "name": "stdout",
                    "text": "('Ragnarok', 191, 'Ragnarok', 2020, '18+', '7.5/10', '74/100', 1, 0, 1, 0, 1)\n('Navarasa', None, None, None, None, None, None, None, None, None, None, None)\n('Rotten', 521, 'Rotten', 2018, '18+', '7.2/10', '63/100', 1, 0, 0, 0, 1)\n",
                    "output_type": "stream"
                }
            ],
            "execution_count": 10
        },
        {
            "cell_type": "markdown",
            "source": [
                "## Results\n",
                "\n",
                "Now that you have done your analysis, make note of the answers to the following questions by editing the text cell:\n",
                "\n",
                "1. Was every show on your watchlist in the Kaggle dataset? Do you have any ideas as to why a show might not have been present? As some shows might be exclusive to certain streaming servicesthat are not covered in kaggle datset\n",
                "2. Did you include a show or shows in your watchlist that is exclusive to one of the platforms? How might that have impacted your analysis? Yes, I included a show in my watchlist that are exclusive to one of the platforms. The presence of the showsin my watchlist can be specific to calculation of shows on the each streaming service.\n",
                "3. Which streaming service(s) offered the most shows on your watchlist? Which streaming service(s) offered the least? Rangarok = Netflix\n",
                "4. Based on the shows you want to watch and the results of your analysis, is there a streaming service you think would be a good fit for you? Netflix"
            ],
            "metadata": {
                "azdata_cell_guid": "909689e4-1aae-41e3-b1f8-158ebe5ec3ca"
            },
            "attachments": {}
        }
    ]
}